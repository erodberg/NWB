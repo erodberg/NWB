{
 "cells": [
  {
   "cell_type": "code",
   "execution_count": null,
   "metadata": {},
   "outputs": [],
   "source": [
    "## Extract forted unit information and put into neurodata without borders format (NWB)\n"
   ]
  },
  {
   "cell_type": "code",
   "execution_count": 2,
   "metadata": {},
   "outputs": [],
   "source": [
    "import numpy as np\n",
    "from neuroconv import NWBConverter\n",
    "from pathlib import Path\n",
    "from datetime import datetime,timezone\n",
    "from zoneinfo import ZoneInfo\n",
    "from neuroconv.datainterfaces import PhySortingInterface\n",
    "from neuroconv.utils.dict import load_dict_from_file, dict_deep_update\n",
    "# from phylib.io.model import load_model\n",
    "from pynwb import NWBHDF5IO\n"
   ]
  },
  {
   "cell_type": "code",
   "execution_count": null,
   "metadata": {},
   "outputs": [],
   "source": [
    "#set up  - cahnge the paths below to point at your datafiles \n",
    "\n",
    "# phyfolder - directs to folder of the phy output\n",
    "phyFolder =f\"F:\\\\EMR22010\\\\2023-04-26_13-00-07\\\\Record Node 105\\\\experiment1\\\\recording1\\\\continuous\\\\Neuropix-PXI-100.ProbeA-AP\\\\\"\n",
    "\n",
    "# change filename to be what you want the NWB file to be saved as - I recomend the ID_date \n",
    "filename = 'PRACTICE'\n",
    "\n",
    "#outPath = path where you want file to be saved, DO NOT CHANGE \"{filename}.nwb\"\n",
    "outPath = f\"F:\\\\EMR22010\\\\NWB\\\\{filename}.nwb\"\n",
    "\n",
    "# location of YAML file - make sure to make a YAML file for each recording - this includes all the basic inforamtion of a recording like ID, task, animal age, etc.\n",
    "yaml=f\"F:\\\\EMR22010\\\\2023-04-26_13-00-07\\\\Record Node 105\\\\experiment1\\\\recording1\\\\continuous\\\\Neuropix-PXI-100.ProbeA-AP\\\\emr22010.yaml\"\n",
    "\n"
   ]
  },
  {
   "cell_type": "code",
   "execution_count": null,
   "metadata": {},
   "outputs": [],
   "source": [
    "class NWBConverter(NWBConverter):\n",
    "    data_interface_classes = dict(\n",
    "        PhySorting=PhySortingInterface\n",
    "    )\n",
    "source_data = dict(\n",
    "    PhySorting=dict(\n",
    "        folder_path=phyFolder\n",
    "    ),  \n",
    ")\n",
    "\n",
    "converter = NWBConverter(source_data)\n",
    "\n"
   ]
  },
  {
   "cell_type": "code",
   "execution_count": null,
   "metadata": {},
   "outputs": [],
   "source": [
    "metadata = converter.get_metadata()\n",
    "\n",
    "yamlMetadata = load_dict_from_file(file_path=yaml)\n",
    "\n",
    "metadata = dict_deep_update(metadata,yamlMetadata)\n",
    "converter.run_conversion(metadata=metadata, nwbfile_path=outPath)"
   ]
  },
  {
   "cell_type": "code",
   "execution_count": null,
   "metadata": {},
   "outputs": [],
   "source": [
    "filename = 'PRACTICE'\n",
    "\n",
    "with NWBHDF5IO(f\"F:\\\\EMR22010\\\\NWB\\\\{filename}.nwb\", \"r\") as io:\n",
    "    read_nwbfile = io.read()\n",
    "    \n",
    "    units=read_nwbfile.units\n",
    "    units_df=units.to_dataframe()\n",
    "    units_df=units_df[units_df['quality']!='noise']\n",
    "    #goodunits_df=units_df[units_df['quality']=='good']\n",
    "    #trials=read_nwbfile.trials\n",
    "    #trials_df=trials.to_dataframe()\n",
    "    \n",
    "io.close()"
   ]
  },
  {
   "cell_type": "code",
   "execution_count": null,
   "metadata": {},
   "outputs": [],
   "source": [
    "units_df.head()"
   ]
  }
 ],
 "metadata": {
  "kernelspec": {
   "display_name": "NWB",
   "language": "python",
   "name": "python3"
  },
  "language_info": {
   "codemirror_mode": {
    "name": "ipython",
    "version": 3
   },
   "file_extension": ".py",
   "mimetype": "text/x-python",
   "name": "python",
   "nbconvert_exporter": "python",
   "pygments_lexer": "ipython3",
   "version": "3.12.4"
  }
 },
 "nbformat": 4,
 "nbformat_minor": 2
}
